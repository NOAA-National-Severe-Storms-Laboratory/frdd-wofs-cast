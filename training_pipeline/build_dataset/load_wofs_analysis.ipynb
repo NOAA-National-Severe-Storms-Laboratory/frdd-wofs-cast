{
 "cells": [
  {
   "cell_type": "code",
   "execution_count": 1,
   "id": "47a704c7",
   "metadata": {},
   "outputs": [],
   "source": [
    "import xarray as xr "
   ]
  },
  {
   "cell_type": "code",
   "execution_count": 2,
   "id": "b33eef5b",
   "metadata": {},
   "outputs": [],
   "source": [
    "ds = xr.load_dataset('/work2/wof/realtime/2020/20200424/202004241545/wrfout_d01_2020-04-24_15:45:00_2')"
   ]
  },
  {
   "cell_type": "code",
   "execution_count": null,
   "id": "e203d194",
   "metadata": {},
   "outputs": [],
   "source": []
  }
 ],
 "metadata": {
  "kernelspec": {
   "display_name": "Python 3 (ipykernel)",
   "language": "python",
   "name": "python3"
  },
  "language_info": {
   "codemirror_mode": {
    "name": "ipython",
    "version": 3
   },
   "file_extension": ".py",
   "mimetype": "text/x-python",
   "name": "python",
   "nbconvert_exporter": "python",
   "pygments_lexer": "ipython3",
   "version": "3.10.13"
  }
 },
 "nbformat": 4,
 "nbformat_minor": 5
}
