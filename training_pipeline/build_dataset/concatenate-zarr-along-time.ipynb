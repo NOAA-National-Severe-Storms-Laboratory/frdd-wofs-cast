{
 "cells": [
  {
   "cell_type": "code",
   "execution_count": 6,
   "id": "1780c37a",
   "metadata": {},
   "outputs": [],
   "source": [
    "import sys, os\n",
    "sys.path.insert(0, os.path.dirname(os.path.dirname(os.getcwd())))\n",
    "from wofscast.data_generator import (add_local_solar_time, \n",
    "                                     to_static_vars, \n",
    "                                     dataset_to_input,\n",
    "                                     load_chunk,\n",
    "                                     load_and_concatenate, \n",
    "                                     ZarrDataGenerator,\n",
    "                                     WoFSDataProcessor, \n",
    "                                     WRFZarrFileProcessor,\n",
    "                                     open_zarr, check_for_nans\n",
    "                                    )\n",
    "from wofscast import data_utils\n",
    "from wofscast.wofscast_task_config import DBZ_TASK_CONFIG, WOFS_TASK_CONFIG, DBZ_TASK_CONFIG_1HR\n",
    "from os.path import join\n",
    "import dataclasses\n",
    "\n",
    "import xarray as xr\n",
    "from dask.distributed import Client\n",
    "import zarr"
   ]
  },
  {
   "cell_type": "code",
   "execution_count": 2,
   "id": "1b7b9dc4",
   "metadata": {},
   "outputs": [
    {
     "name": "stdout",
     "output_type": "stream",
     "text": [
      "CPU times: user 1.89 ms, sys: 518 µs, total: 2.41 ms\n",
      "Wall time: 2.58 ms\n"
     ]
    }
   ],
   "source": [
    "%%time \n",
    "# Usage\n",
    "base_path = '/work2/wofs_zarr/'\n",
    "years = ['2019']#, '2020']\n",
    "resolution_minutes = 10\n",
    "\n",
    "# Specify the restrictions for testing\n",
    "restricted_dates = ['20190526']\n",
    "restricted_times =['1900']#, '2000', '2100', '2200', '2300', '0000', '0100', '0200', '0300']\n",
    "restricted_members = ['ENS_MEM_15']#, 'ENS_MEM_16']#, 'ENS_MEM_10', 'ENS_MEM_11']\n",
    "\n",
    "processor = WRFZarrFileProcessor(base_path, years, \n",
    "                             resolution_minutes, \n",
    "                             restricted_dates, \n",
    "                             restricted_times, restricted_members)\n",
    "\n",
    "paths = processor.run()\n",
    "\n",
    "# All dates, one init time, one member ; "
   ]
  },
  {
   "cell_type": "code",
   "execution_count": 3,
   "id": "3fb2f598",
   "metadata": {},
   "outputs": [],
   "source": [
    "dataset = load_and_concatenate(paths[0], concat_dim='Time')\n",
    "preprocessor = WoFSdataProcessor()\n",
    "dataset = preprocessor(dataset)"
   ]
  },
  {
   "cell_type": "code",
   "execution_count": 9,
   "id": "a12d8aa5",
   "metadata": {},
   "outputs": [
    {
     "data": {
      "text/plain": [
       "<xarray.backends.zarr.ZarrStore at 0x14c6b87f83c0>"
      ]
     },
     "execution_count": 9,
     "metadata": {},
     "output_type": "execute_result"
    }
   ],
   "source": [
    "# Save to disk. \n",
    "# Configure the Blosc compressor\n",
    "compressor = zarr.Blosc(cname='zstd', clevel=7, shuffle=zarr.Blosc.BITSHUFFLE)\n",
    "\n",
    "# Save the dataset to a Zarr file\n",
    "# print(f'Saving to {out_path}...')\n",
    "out_path = '/work2/wofs_zarr/ai_datasets/2019/test.zarr'\n",
    "dataset.to_zarr(out_path, mode='w', \n",
    "                        encoding={var: {'compressor': compressor} for var in dataset.variables})"
   ]
  },
  {
   "cell_type": "code",
   "execution_count": null,
   "id": "7a935207",
   "metadata": {},
   "outputs": [],
   "source": []
  }
 ],
 "metadata": {
  "kernelspec": {
   "display_name": "Python 3 (ipykernel)",
   "language": "python",
   "name": "python3"
  },
  "language_info": {
   "codemirror_mode": {
    "name": "ipython",
    "version": 3
   },
   "file_extension": ".py",
   "mimetype": "text/x-python",
   "name": "python",
   "nbconvert_exporter": "python",
   "pygments_lexer": "ipython3",
   "version": "3.10.13"
  }
 },
 "nbformat": 4,
 "nbformat_minor": 5
}
