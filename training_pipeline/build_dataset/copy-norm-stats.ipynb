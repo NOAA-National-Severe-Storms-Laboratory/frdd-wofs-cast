{
 "cells": [
  {
   "cell_type": "markdown",
   "id": "823bdab6",
   "metadata": {},
   "source": [
    "### Copy the full mean and stddev normalization statistics to new directories.\n",
    "\n",
    "Note: only the diffs_stddev_by_level should need to be recomputed for new datasets. \n",
    "\n",
    "Note: These are based on 17 vertical levels and a fixed set of variables"
   ]
  },
  {
   "cell_type": "code",
   "execution_count": 2,
   "id": "9be1a428",
   "metadata": {},
   "outputs": [
    {
     "name": "stdout",
     "output_type": "stream",
     "text": [
      "Copied /work/mflora/wofs-cast-data/full_normalization_stats/mean_by_level.nc to /work2/mflora/wofscast_norm_stats/new_dataset_5min/mean_by_level.nc\n",
      "Copied /work/mflora/wofs-cast-data/full_normalization_stats/stddev_by_level.nc to /work2/mflora/wofscast_norm_stats/new_dataset_5min/stddev_by_level.nc\n"
     ]
    }
   ],
   "source": [
    "import xarray as xr\n",
    "import os\n",
    "import shutil\n",
    "\n",
    "base_path = '/work/mflora/wofs-cast-data/full_normalization_stats'\n",
    "new_path = '/work2/mflora/wofscast_norm_stats/new_dataset_5min'\n",
    "\n",
    "# List of filenames to copy\n",
    "filenames = ['mean_by_level.nc', 'stddev_by_level.nc']\n",
    "\n",
    "# Iterate over the filenames and copy them to the new directory\n",
    "for filename in filenames:\n",
    "    current_path = os.path.join(base_path, filename)\n",
    "    destination_path = os.path.join(new_path, filename)\n",
    "    \n",
    "    # Copy the file\n",
    "    shutil.copy2(current_path, destination_path)\n",
    "    print(f'Copied {current_path} to {destination_path}')\n"
   ]
  },
  {
   "cell_type": "code",
   "execution_count": null,
   "id": "92861f06",
   "metadata": {},
   "outputs": [],
   "source": []
  }
 ],
 "metadata": {
  "kernelspec": {
   "display_name": "Python 3 (ipykernel)",
   "language": "python",
   "name": "python3"
  },
  "language_info": {
   "codemirror_mode": {
    "name": "ipython",
    "version": 3
   },
   "file_extension": ".py",
   "mimetype": "text/x-python",
   "name": "python",
   "nbconvert_exporter": "python",
   "pygments_lexer": "ipython3",
   "version": "3.10.13"
  }
 },
 "nbformat": 4,
 "nbformat_minor": 5
}
