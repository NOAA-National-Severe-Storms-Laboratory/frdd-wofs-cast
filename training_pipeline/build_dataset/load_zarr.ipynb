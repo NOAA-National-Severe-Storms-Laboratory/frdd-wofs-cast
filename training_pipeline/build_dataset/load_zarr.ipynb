{
 "cells": [
  {
   "cell_type": "code",
   "execution_count": 9,
   "id": "4c33bb59",
   "metadata": {},
   "outputs": [],
   "source": [
    "import xarray as xr\n",
    "import os"
   ]
  },
  {
   "cell_type": "code",
   "execution_count": 10,
   "id": "deac3c7c",
   "metadata": {},
   "outputs": [],
   "source": [
    "base_path = '/work2/wofs_zarr/2019/20190719_MCS/0600/ENS_MEM_04'\n",
    "name = 'wrfwof_2019-07-20_060000_to_2019-07-20_120000_5min.zarr'\n",
    "\n",
    "ds= xr.load_dataset(\n",
    "   os.path.join(base_path, name),\n",
    "    engine='zarr'\n",
    ")"
   ]
  }
 ],
 "metadata": {
  "kernelspec": {
   "display_name": "Python 3 (ipykernel)",
   "language": "python",
   "name": "python3"
  },
  "language_info": {
   "codemirror_mode": {
    "name": "ipython",
    "version": 3
   },
   "file_extension": ".py",
   "mimetype": "text/x-python",
   "name": "python",
   "nbconvert_exporter": "python",
   "pygments_lexer": "ipython3",
   "version": "3.10.13"
  }
 },
 "nbformat": 4,
 "nbformat_minor": 5
}
