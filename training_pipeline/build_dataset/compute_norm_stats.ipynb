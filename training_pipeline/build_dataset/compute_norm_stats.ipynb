{
 "cells": [
  {
   "cell_type": "markdown",
   "id": "5c70318a",
   "metadata": {},
   "source": [
    "## Compute the normalization statistics for the GraphCast code"
   ]
  },
  {
   "cell_type": "code",
   "execution_count": 1,
   "id": "ec377e51",
   "metadata": {},
   "outputs": [],
   "source": [
    "import xarray as xr \n",
    "import numpy as np\n",
    "from glob import glob\n",
    "\n",
    "import random \n",
    "import os\n",
    "\n",
    "import sys, os \n",
    "sys.path.insert(0, os.path.dirname(os.path.dirname(os.getcwd())))\n",
    "\n",
    "from wofscast.data_generator import load_wofscast_data\n",
    "from wofscast import my_graphcast as graphcast\n",
    "import dask \n",
    "\n",
    "# Save to NetCDF files\n",
    "save_path = '/work/mflora/wofs-cast-data/normalization_stats/'"
   ]
  },
  {
   "cell_type": "code",
   "execution_count": 2,
   "id": "77dd55da",
   "metadata": {},
   "outputs": [
    {
     "name": "stderr",
     "output_type": "stream",
     "text": [
      "/work/mflora/miniconda3/envs/wofs-cast/lib/python3.10/site-packages/dask/array/numpy_compat.py:53: RuntimeWarning: invalid value encountered in divide\n",
      "  x = np.divide(x1, x2, out)\n"
     ]
    },
    {
     "name": "stdout",
     "output_type": "stream",
     "text": [
      "CPU times: user 4min 43s, sys: 1min 9s, total: 5min 52s\n",
      "Wall time: 6min 43s\n"
     ]
    }
   ],
   "source": [
    "%%time\n",
    "in_path = '/work/mflora/wofs-cast-data/train_datasets'\n",
    "n_samples = 1024\n",
    "\n",
    "with dask.config.set(**{'array.slicing.split_large_chunks': False}):\n",
    "    inputs = xr.open_dataset(os.path.join(in_path, 'train_inputs.nc'), chunks={})\n",
    "    forcings = xr.open_dataset(os.path.join(in_path, 'train_forcings.nc'), chunks={})\n",
    "\n",
    "    full_dataset = xr.merge([inputs, forcings])\n",
    "    \n",
    "    # Randomly select batches without replacement\n",
    "    batch_indices = np.random.choice(full_dataset.batch.size, size=n_samples, replace=False)\n",
    "\n",
    "    # Select the random batches\n",
    "    subset_dataset = full_dataset.isel(batch=batch_indices)\n",
    "\n",
    "    # Setup computations but do not execute them yet\n",
    "    mean_by_level = subset_dataset.mean(dim=['time', 'lat', 'lon', 'batch'])\n",
    "    stddev_by_level = subset_dataset .std(dim=['time', 'lat', 'lon', 'batch'])\n",
    "    \n",
    "    time_diffs = subset_dataset.diff(dim='time')\n",
    "    diffs_stddev_by_level = time_diffs.std(dim=['time', 'lat', 'lon', 'batch'])\n",
    "\n",
    "    mean_by_level, stddev_by_level, diffs_stddev_by_level = dask.compute(mean_by_level, \n",
    "                                                                         stddev_by_level, \n",
    "                                                                         diffs_stddev_by_level)\n",
    "\n",
    "    mean_by_level.to_netcdf(os.path.join(save_path, 'mean_by_level.nc'))\n",
    "    stddev_by_level.to_netcdf(os.path.join(save_path, 'stddev_by_level.nc'))\n",
    "    diffs_stddev_by_level.to_netcdf(os.path.join(save_path, 'diffs_stddev_by_level.nc'))\n",
    "\n",
    "    inputs.close()\n",
    "    forcings.close()\n",
    "\n",
    "    mean_by_level.close()\n",
    "    stddev_by_level.close()\n",
    "    diffs_stddev_by_level.close()\n",
    "    "
   ]
  },
  {
   "cell_type": "code",
   "execution_count": 3,
   "id": "18a77243",
   "metadata": {},
   "outputs": [
    {
     "data": {
      "text/plain": [
       "518"
      ]
     },
     "execution_count": 3,
     "metadata": {},
     "output_type": "execute_result"
    }
   ],
   "source": [
    "import gc\n",
    "gc.collect()"
   ]
  },
  {
   "cell_type": "code",
   "execution_count": null,
   "id": "11065630",
   "metadata": {},
   "outputs": [],
   "source": []
  }
 ],
 "metadata": {
  "kernelspec": {
   "display_name": "Python 3 (ipykernel)",
   "language": "python",
   "name": "python3"
  },
  "language_info": {
   "codemirror_mode": {
    "name": "ipython",
    "version": 3
   },
   "file_extension": ".py",
   "mimetype": "text/x-python",
   "name": "python",
   "nbconvert_exporter": "python",
   "pygments_lexer": "ipython3",
   "version": "3.10.13"
  }
 },
 "nbformat": 4,
 "nbformat_minor": 5
}
