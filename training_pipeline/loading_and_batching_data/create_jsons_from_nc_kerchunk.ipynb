{
 "cells": [
  {
   "cell_type": "code",
   "execution_count": 3,
   "id": "59d24ca8",
   "metadata": {},
   "outputs": [
    {
     "name": "stdout",
     "output_type": "stream",
     "text": [
      "CPU times: user 51.4 ms, sys: 19.5 ms, total: 70.9 ms\n",
      "Wall time: 4.47 s\n"
     ]
    }
   ],
   "source": [
    "%%time\n",
    "import xarray as xr\n",
    "import fsspec\n",
    "import os\n",
    "from dask import delayed\n",
    "import dask\n",
    "\n",
    "import sys\n",
    "sys.path.insert(0, os.path.dirname(os.path.dirname(os.getcwd())))\n",
    "from wofscast.data_generator import add_local_solar_time\n",
    "#import wofscast.my_graphcast as graphcast\n",
    "from wofscast import data_utils\n",
    "import dataclasses\n",
    "\n",
    "\n",
    "import glob\n",
    "import ujson\n",
    "from kerchunk.hdf import SingleHdf5ToZarr\n",
    "\n",
    "\n",
    "def ensure_json_ext(filename: str) -> str:\n",
    "    \"\"\"\n",
    "    Ensure the given filename ends with '.json' and remove any other extensions.\n",
    "    If the filename does not have '.json', append '.json' to the root name.\n",
    "\n",
    "    Args:\n",
    "        filename (str): The original filename.\n",
    "\n",
    "    Returns:\n",
    "        str: The filename with only a '.json' extension.\n",
    "    \"\"\"\n",
    "    # Split the filename to remove its existing extension (if any)\n",
    "    root_name, _ = os.path.splitext(filename)\n",
    "    \n",
    "    # Add `.json` as the extension\n",
    "    return f\"{root_name}.json\"\n",
    "\n",
    "def gen_json(u, output_dir=\"/work/mflora/wofs-cast-data/datasets_jsons/\", \n",
    "             original_dir = '/work/mflora/wofs-cast-data/datasets'):\n",
    "\n",
    "    # File system options\n",
    "    so = dict(\n",
    "        mode=\"rb\", anon=True, default_fill_cache=False,\n",
    "        default_cache_type=\"none\"\n",
    "    )\n",
    "\n",
    "    # Open the NetCDF file and generate JSON\n",
    "    try:\n",
    "        with fsspec.open(u, **so) as inf:\n",
    "            h5chunks = SingleHdf5ToZarr(inf, u, inline_threshold=300)\n",
    "            output_path = ensure_json_ext(u.replace(original_dir, output_dir))\n",
    "            # Ensure output directory exists\n",
    "            if not os.path.exists(os.path.dirname(output_path)):\n",
    "                os.makedirs(os.path.dirname(output_path), exist_ok=True)\n",
    "            \n",
    "            with open(output_path, 'wb') as outf:\n",
    "                outf.write(ujson.dumps(h5chunks.translate()).encode())\n",
    "            return f\"Generated JSON for {output_path}\"\n",
    "        \n",
    "    except Exception as e:\n",
    "        print(f\"Failed to generate JSON for {u}: {e}\")"
   ]
  },
  {
   "cell_type": "code",
   "execution_count": null,
   "id": "240b5b3e",
   "metadata": {},
   "outputs": [],
   "source": [
    "%%time\n",
    "from os.path import join\n",
    "\n",
    "base_path = '/work/mflora/wofs-cast-data/datasets'\n",
    "\n",
    "years = ['2019', '2020', '2021']\n",
    "paths = [join(base_path, year, file) for year in years for file in os.listdir(join(base_path, year))]\n",
    "\n",
    "results = dask.compute(*[dask.delayed(gen_json)(u) for u in paths])\n"
   ]
  },
  {
   "cell_type": "code",
   "execution_count": null,
   "id": "349e6215",
   "metadata": {},
   "outputs": [],
   "source": []
  }
 ],
 "metadata": {
  "kernelspec": {
   "display_name": "Python 3 (ipykernel)",
   "language": "python",
   "name": "python3"
  },
  "language_info": {
   "codemirror_mode": {
    "name": "ipython",
    "version": 3
   },
   "file_extension": ".py",
   "mimetype": "text/x-python",
   "name": "python",
   "nbconvert_exporter": "python",
   "pygments_lexer": "ipython3",
   "version": "3.10.13"
  }
 },
 "nbformat": 4,
 "nbformat_minor": 5
}
