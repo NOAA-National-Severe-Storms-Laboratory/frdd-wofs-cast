{
 "cells": [
  {
   "cell_type": "code",
   "execution_count": 1,
   "id": "6d0c9938",
   "metadata": {},
   "outputs": [
    {
     "name": "stdout",
     "output_type": "stream",
     "text": [
      "8730\n",
      "CPU times: user 7.83 ms, sys: 2.96 ms, total: 10.8 ms\n",
      "Wall time: 10.2 ms\n"
     ]
    }
   ],
   "source": [
    "%%time\n",
    "import os\n",
    "from os.path import join\n",
    "from concurrent.futures import ThreadPoolExecutor\n",
    "\n",
    "base_path = '/work/mflora/wofs-cast-data/datasets'\n",
    "years = ['2019']\n",
    "\n",
    "def get_files_for_year(year):\n",
    "    year_path = join(base_path, year)\n",
    "    with os.scandir(year_path) as it:\n",
    "        return [join(year_path, entry.name) for entry in it if entry.is_file()]\n",
    "\n",
    "with ThreadPoolExecutor() as executor:\n",
    "    paths = []\n",
    "    for files in executor.map(get_files_for_year, years):\n",
    "        paths.extend(files)\n",
    "\n",
    "print(len(paths))"
   ]
  },
  {
   "cell_type": "code",
   "execution_count": 2,
   "id": "d172e67a",
   "metadata": {},
   "outputs": [],
   "source": [
    "%%time \n",
    "import xarray as xr\n",
    "import zarr\n",
    "import dask \n",
    "import os\n",
    "\n",
    "def netcdf_to_zarr(netcdf_path, compressor=None, chunk_sizes=None):\n",
    "    \"\"\"\n",
    "    Convert a NetCDF file to Zarr format optimized for I/O speeds.\n",
    "\n",
    "    Args:\n",
    "        netcdf_path (str): Path to the input NetCDF file.\n",
    "        compressor (zarr.Compressor, optional): Zarr compressor to use. Defaults to None.\n",
    "        chunk_sizes (dict, optional): Dictionary specifying chunk sizes. Defaults to None.\n",
    "\n",
    "    Returns:\n",
    "        None\n",
    "    \"\"\"\n",
    "    zarr_path = netcdf_path.replace('datasets', 'datasets_zarr').replace('.nc', '.zarr')\n",
    "    \n",
    "    # Open the NetCDF file\n",
    "    ds = xr.open_dataset(netcdf_path, chunks=chunk_sizes)\n",
    "\n",
    "    # If no compressor is specified, use the default compressor\n",
    "    if compressor is None:\n",
    "        compressor = zarr.Blosc(cname='zstd', clevel=3, shuffle=zarr.Blosc.SHUFFLE)\n",
    "\n",
    "    # Set encoding for each variable to use the specified compressor\n",
    "    encoding = {var: {'compressor': compressor} for var in ds.data_vars}\n",
    "\n",
    "    # Write the dataset to Zarr format\n",
    "    # Ensure output directory exists\n",
    "    if not os.path.exists(os.path.dirname(zarr_path)):\n",
    "        os.makedirs(os.path.dirname(zarr_path), exist_ok=True)\n",
    "    \n",
    "    ds.to_zarr(zarr_path, mode='w', encoding=encoding, consolidated=True)\n",
    "    ds.close()\n",
    "    \n",
    "    print(f'Saved {zarr_path}...')\n",
    "    \n",
    "    return 'Done'\n",
    "\n",
    "\n",
    "results = dask.compute(*[dask.delayed(netcdf_to_zarr)(u, chunk_sizes={}) for u in paths])"
   ]
  },
  {
   "cell_type": "code",
   "execution_count": null,
   "id": "9c8c53f7",
   "metadata": {},
   "outputs": [],
   "source": []
  }
 ],
 "metadata": {
  "kernelspec": {
   "display_name": "Python 3 (ipykernel)",
   "language": "python",
   "name": "python3"
  },
  "language_info": {
   "codemirror_mode": {
    "name": "ipython",
    "version": 3
   },
   "file_extension": ".py",
   "mimetype": "text/x-python",
   "name": "python",
   "nbconvert_exporter": "python",
   "pygments_lexer": "ipython3",
   "version": "3.10.13"
  }
 },
 "nbformat": 4,
 "nbformat_minor": 5
}
