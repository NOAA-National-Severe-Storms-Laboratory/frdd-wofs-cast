{
 "cells": [
  {
   "cell_type": "code",
   "execution_count": 1,
   "id": "45e2e2ae",
   "metadata": {},
   "outputs": [],
   "source": [
    "from glob import glob\n",
    "import os "
   ]
  },
  {
   "cell_type": "code",
   "execution_count": 2,
   "id": "2363b8da",
   "metadata": {},
   "outputs": [],
   "source": [
    "data_paths = []\n",
    "for year in ['2019', '2020']:\n",
    "    data_paths.extend(glob(os.path.join(f'/work/mflora/wofs-cast-data/datasets/{year}/wrf*.nc')))"
   ]
  },
  {
   "cell_type": "code",
   "execution_count": 4,
   "id": "eb2b78ec",
   "metadata": {},
   "outputs": [],
   "source": [
    "def truncate_to_chunk_size(input_list, chunk_size=512):\n",
    "    # Calculate the new length as the smallest multiple of chunk_size\n",
    "    # that is greater than or equal to the length of the list\n",
    "    new_length = ((len(input_list) + chunk_size - 1) // chunk_size) * chunk_size\n",
    "    # If the list is already a multiple of chunk_size, no need to truncate\n",
    "    if new_length > len(input_list):\n",
    "        new_length -= chunk_size\n",
    "    # Truncate the list\n",
    "    return input_list[:new_length]"
   ]
  },
  {
   "cell_type": "code",
   "execution_count": 3,
   "id": "0d2b3bc2",
   "metadata": {},
   "outputs": [
    {
     "name": "stdout",
     "output_type": "stream",
     "text": [
      "18053\n"
     ]
    }
   ],
   "source": [
    "print(len(data_paths))"
   ]
  },
  {
   "cell_type": "code",
   "execution_count": 5,
   "id": "af03380d",
   "metadata": {},
   "outputs": [
    {
     "name": "stdout",
     "output_type": "stream",
     "text": [
      "17920\n"
     ]
    }
   ],
   "source": [
    "new_list = truncate_to_chunk_size(data_paths, chunk_size=512)\n",
    "print(len(new_list))"
   ]
  },
  {
   "cell_type": "code",
   "execution_count": 6,
   "id": "3dce2b88",
   "metadata": {},
   "outputs": [
    {
     "data": {
      "text/plain": [
       "35.0"
      ]
     },
     "execution_count": 6,
     "metadata": {},
     "output_type": "execute_result"
    }
   ],
   "source": [
    "17920/512\n"
   ]
  },
  {
   "cell_type": "code",
   "execution_count": null,
   "id": "924f590c",
   "metadata": {},
   "outputs": [],
   "source": []
  }
 ],
 "metadata": {
  "kernelspec": {
   "display_name": "Python 3 (ipykernel)",
   "language": "python",
   "name": "python3"
  },
  "language_info": {
   "codemirror_mode": {
    "name": "ipython",
    "version": 3
   },
   "file_extension": ".py",
   "mimetype": "text/x-python",
   "name": "python",
   "nbconvert_exporter": "python",
   "pygments_lexer": "ipython3",
   "version": "3.10.13"
  }
 },
 "nbformat": 4,
 "nbformat_minor": 5
}
