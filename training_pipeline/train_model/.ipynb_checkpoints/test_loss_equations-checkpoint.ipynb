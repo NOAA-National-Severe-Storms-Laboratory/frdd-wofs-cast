{
 "cells": [
  {
   "cell_type": "code",
   "execution_count": 28,
   "id": "712c8b36",
   "metadata": {},
   "outputs": [],
   "source": [
    "import xarray as xr\n",
    "import xarray\n",
    "import dask \n",
    "import os"
   ]
  },
  {
   "cell_type": "code",
   "execution_count": 2,
   "id": "91c096b1",
   "metadata": {},
   "outputs": [],
   "source": [
    "# Rather an a strict MSE, for the rainfall, reflectivity, UH, we want to penalize specific behavior "
   ]
  },
  {
   "cell_type": "code",
   "execution_count": 3,
   "id": "29077bf1",
   "metadata": {},
   "outputs": [
    {
     "name": "stdout",
     "output_type": "stream",
     "text": [
      "CPU times: user 17.6 s, sys: 7.48 s, total: 25.1 s\n",
      "Wall time: 1min 20s\n"
     ]
    }
   ],
   "source": [
    "%%time\n",
    "in_path = '/work/mflora/wofs-cast-data/train_datasets'\n",
    "inputs = xr.open_dataset(os.path.join(in_path, 'train_inputs.nc'), chunks={})\n",
    "inputs = inputs.isel(batch=slice(0, 2))\n",
    "inputs = dask.compute(inputs)"
   ]
  },
  {
   "cell_type": "code",
   "execution_count": 6,
   "id": "63dd15fd",
   "metadata": {},
   "outputs": [],
   "source": [
    "inputs = inputs[0]"
   ]
  },
  {
   "cell_type": "code",
   "execution_count": 11,
   "id": "3690ac73",
   "metadata": {},
   "outputs": [],
   "source": [
    "predict_vars = ['U', 'V', 'W', 'T', 'T2', 'COMPOSITE_REFL_10CM', \n",
    "                'UP_HELI_MAX', 'RAINNC'\n",
    "               ]"
   ]
  },
  {
   "cell_type": "code",
   "execution_count": 17,
   "id": "863a3162",
   "metadata": {},
   "outputs": [],
   "source": [
    "prediction = inputs[predict_vars].isel(time=0)\n",
    "target = inputs[predict_vars].isel(time=1)"
   ]
  },
  {
   "cell_type": "code",
   "execution_count": 37,
   "id": "0f7211a5",
   "metadata": {},
   "outputs": [],
   "source": [
    "def _mean_preserving_batch(x: xarray.DataArray) -> xarray.DataArray:\n",
    "    return x.mean([d for d in x.dims if d != 'batch'], skipna=False)\n",
    "\n",
    "\n",
    "def threshold_tuned_loss(target, prediction, underpredict_threshold, overpredict_threshold, \n",
    "                underpredict_penalty, overpredict_penalty):\n",
    "    \"\"\"\n",
    "    Custom loss function that penalizes underpredictions above a certain threshold and overpredictions below a certain threshold.\n",
    "\n",
    "    Parameters:\n",
    "    - target: xarray.DataArray representing the true target values.\n",
    "    - prediction: xarray.DataArray representing the predicted values.\n",
    "    - underpredict_threshold: Threshold above which underpredictions are penalized.\n",
    "    - overpredict_threshold: Threshold below which overpredictions are penalized.\n",
    "    - underpredict_penalty: Penalty multiplier for underpredictions.\n",
    "    - overpredict_penalty: Penalty multiplier for overpredictions.\n",
    "\n",
    "    Returns:\n",
    "    - loss: The calculated loss as an xarray.DataArray.\n",
    "    \"\"\"\n",
    "    # Calculate basic error\n",
    "    error = prediction - target\n",
    "    \n",
    "    # Identify where to apply underprediction penalty\n",
    "    underpredict_mask = (target > underpredict_threshold) & (error < 0)\n",
    "    underpredict_loss = error.where(underpredict_mask) * underpredict_penalty\n",
    "    \n",
    "    # Identify where to apply overprediction penalty\n",
    "    overpredict_mask = (target < overpredict_threshold) & (error > 0)\n",
    "    overpredict_loss = error.where(overpredict_mask) * overpredict_penalty\n",
    "    \n",
    "    # Combine losses, treating non-penalized errors as normal (error^2)\n",
    "    combined_loss = xr.where(underpredict_mask | overpredict_mask, \n",
    "                             underpredict_loss + overpredict_loss, error**2)\n",
    "    \n",
    "    return combined_loss\n",
    "\n",
    "def custom_loss(predictions, targets): \n",
    "    \n",
    "    custom_loss_params = {'COMPOSITE_REFL_10CM': {'underpredict_threshold' : 30., # dBZ \n",
    "                                                   'overpredict_threshold' : 15., # dBZ\n",
    "                                                   'underpredict_penalty'  : 10, \n",
    "                                                   'overpredict_penalty' : 10, \n",
    "                                                  }, \n",
    "                           'UP_HELI_MAX':     {'underpredict_threshold' : 50., # UH units\n",
    "                                                   'overpredict_threshold' : 5., # UH units\n",
    "                                                   'underpredict_penalty'  : 10, \n",
    "                                                   'overpredict_penalty' : 10, \n",
    "                                                  },\n",
    "                           'RAINNC':         {'underpredict_threshold' : 5.0, # mm \n",
    "                                                   'overpredict_threshold' : 0.25, # mm\n",
    "                                                   'underpredict_penalty'  : 10, \n",
    "                                                   'overpredict_penalty' : 10, \n",
    "                                                  },\n",
    "                   \n",
    "                         }\n",
    "\n",
    "    all_data_vars = list(targets.data_vars)\n",
    "    \n",
    "    custom_loss_vars = custom_loss_params.keys()\n",
    "    \n",
    "    standard_vars = [item for item in all_data_vars if item not in custom_loss_vars]\n",
    "    \n",
    "    mse_loss = _mean_preserving_batch((prediction[standard_vars] - target[standard_vars])**2)\n",
    "    \n",
    "    custom_loss_total=0\n",
    "    for var, params in custom_loss_params.items():\n",
    "        custom_loss_total += _mean_preserving_batch(threshold_tuned_loss(targets[var],\n",
    "                                                                         predictions[var], **params))\n",
    "    \n",
    "    \n",
    "    return mse_loss, custom_loss_total\n",
    "    "
   ]
  },
  {
   "cell_type": "code",
   "execution_count": 38,
   "id": "7703e5db",
   "metadata": {},
   "outputs": [],
   "source": [
    "mse_loss, custom_loss = custom_loss(prediction, target)"
   ]
  },
  {
   "cell_type": "markdown",
   "id": "c5b7e0f2",
   "metadata": {},
   "source": []
  }
 ],
 "metadata": {
  "kernelspec": {
   "display_name": "Python 3 (ipykernel)",
   "language": "python",
   "name": "python3"
  },
  "language_info": {
   "codemirror_mode": {
    "name": "ipython",
    "version": 3
   },
   "file_extension": ".py",
   "mimetype": "text/x-python",
   "name": "python",
   "nbconvert_exporter": "python",
   "pygments_lexer": "ipython3",
   "version": "3.10.13"
  }
 },
 "nbformat": 4,
 "nbformat_minor": 5
}
