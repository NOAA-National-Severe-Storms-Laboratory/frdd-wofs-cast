{
 "cells": [
  {
   "cell_type": "code",
   "execution_count": 28,
   "id": "9ff7635f",
   "metadata": {},
   "outputs": [],
   "source": [
    "import xarray as xr\n",
    "import xarray\n",
    "import dask \n",
    "import os"
   ]
  },
  {
   "cell_type": "code",
   "execution_count": 2,
   "id": "bdd9994b",
   "metadata": {},
   "outputs": [],
   "source": [
    "# Rather an a strict MSE, for the rainfall, reflectivity, UH, we want to penalize specific behavior "
   ]
  },
  {
   "cell_type": "code",
   "execution_count": 3,
   "id": "e0297beb",
   "metadata": {},
   "outputs": [
    {
     "name": "stdout",
     "output_type": "stream",
     "text": [
      "CPU times: user 17.6 s, sys: 7.48 s, total: 25.1 s\n",
      "Wall time: 1min 20s\n"
     ]
    }
   ],
   "source": [
    "%%time\n",
    "in_path = '/work/mflora/wofs-cast-data/train_datasets'\n",
    "inputs = xr.open_dataset(os.path.join(in_path, 'train_inputs.nc'), chunks={})\n",
    "inputs = inputs.isel(batch=slice(0, 2))\n",
    "inputs = dask.compute(inputs)"
   ]
  },
  {
   "cell_type": "code",
   "execution_count": 6,
   "id": "11517660",
   "metadata": {},
   "outputs": [],
   "source": [
    "inputs = inputs[0]"
   ]
  },
  {
   "cell_type": "code",
   "execution_count": 11,
   "id": "8e7bb6cf",
   "metadata": {},
   "outputs": [],
   "source": [
    "predict_vars = ['U', 'V', 'W', 'T', 'T2', 'COMPOSITE_REFL_10CM', \n",
    "                'UP_HELI_MAX', 'RAINNC'\n",
    "               ]"
   ]
  },
  {
   "cell_type": "code",
   "execution_count": 17,
   "id": "aa09a1cf",
   "metadata": {},
   "outputs": [],
   "source": [
    "prediction = inputs[predict_vars].isel(time=0)\n",
    "target = inputs[predict_vars].isel(time=1)"
   ]
  },
  {
   "cell_type": "code",
   "execution_count": 50,
   "id": "91d7a72e",
   "metadata": {},
   "outputs": [],
   "source": [
    "def _mean_preserving_batch(x: xarray.DataArray) -> xarray.DataArray:\n",
    "    return x.mean([d for d in x.dims if d != 'batch'], skipna=False)\n",
    "\n",
    "\n",
    "def threshold_tuned_loss(target, prediction, \n",
    "                         small_val_thresh, \n",
    "                         mid_val_thresh,\n",
    "                         large_val_thresh, \n",
    "                         small_val_penalty=10.0, \n",
    "                         mid_val_penalty=15.0, \n",
    "                         large_val_penalty=5.0\n",
    "                        ):\n",
    "    \"\"\"\n",
    "    Custom loss function that penalizes underpredictions above a certain threshold and overpredictions below a certain threshold.\n",
    "\n",
    "    Parameters:\n",
    "    - target: xarray.DataArray representing the true target values.\n",
    "    - prediction: xarray.DataArray representing the predicted values.\n",
    "    - large_val_thresh: Threshold above which underpredictions are heavily penalized.\n",
    "    - small_val_thresh: Threshold below which overpredictions are heavily penalized.\n",
    "\n",
    "    Returns:\n",
    "    - loss: The calculated loss as an xarray.DataArray.\n",
    "    \"\"\"\n",
    "    \n",
    "    # Masks\n",
    "    overpredict_small_val_mask  = (prediction > target) & (target <= small_val_thresh)\n",
    "    underpredict_mid_val_mask   = (prediction < target) & (target <= mid_val_thresh)\n",
    "    underpredict_large_val_mask = (prediction < target) & (target > large_val_thresh)\n",
    "    \n",
    "    # Loss calculations\n",
    "    overpredict_loss = xr.where(overpredict_small_val_mask , (prediction - target) * small_val_penalty, 0)\n",
    "    underpredict_loss_mid = xr.where(underpredict_mid_val_mask, (target - prediction) * mid_val_penalty, 0)\n",
    "    underpredict_loss_large = xr.where(underpredict_large_val_mask, (target - prediction) * large_val_penalty, 0)\n",
    "\n",
    "    # Combine loss components\n",
    "    combined_loss = overpredict_loss + underpredict_loss_mid + underpredict_loss_large\n",
    "    \n",
    "    return combined_loss\n",
    "\n",
    "def custom_loss(predictions, targets): \n",
    "    \n",
    "    custom_loss_params = {'COMPOSITE_REFL_10CM': {'small_val_thresh' : 5.0, # dBZ \n",
    "                                                  'mid_val_thresh' : 15., # dBZ\n",
    "                                                  'large_val_thresh': 40, \n",
    "\n",
    "                                                  }, \n",
    "                          \n",
    "                           'UP_HELI_MAX':     {'small_val_thresh' : 5.0, # UH units \n",
    "                                               'mid_val_thresh' : 15., # UH units\n",
    "                                               'large_val_thresh': 60, \n",
    "\n",
    "                                                  }, \n",
    "                           'RAINNC':         {'small_val_thresh' : 0.1, # mm \n",
    "                                                  'mid_val_thresh' : 5.0, # mm\n",
    "                                                  'large_val_thresh': 25.4 # mm\n",
    "\n",
    "                                                  }, \n",
    "                   \n",
    "                         }\n",
    "\n",
    "    all_data_vars = list(targets.data_vars)\n",
    "    \n",
    "    custom_loss_vars = custom_loss_params.keys()\n",
    "    \n",
    "    standard_vars = [item for item in all_data_vars if item not in custom_loss_vars]\n",
    "    \n",
    "    mse_loss = (prediction[standard_vars] - target[standard_vars])**2\n",
    "    \n",
    "    for var, params in custom_loss_params.items():\n",
    "        mse_loss[var] = threshold_tuned_loss(targets[var], predictions[var], **params)\n",
    "    \n",
    "    \n",
    "    return mse_loss\n",
    "    "
   ]
  },
  {
   "cell_type": "code",
   "execution_count": 51,
   "id": "119d892c",
   "metadata": {},
   "outputs": [],
   "source": [
    "mse_loss = custom_loss(prediction, target)"
   ]
  },
  {
   "cell_type": "code",
   "execution_count": 58,
   "id": "1d7c94ba",
   "metadata": {},
   "outputs": [
    {
     "data": {
      "text/plain": [
       "'UP_HELI_MAX'"
      ]
     },
     "execution_count": 58,
     "metadata": {},
     "output_type": "execute_result"
    }
   ],
   "source": [
    "mse_loss['UP_HELI_MAX'].name"
   ]
  },
  {
   "cell_type": "code",
   "execution_count": 56,
   "id": "b735312d",
   "metadata": {},
   "outputs": [
    {
     "data": {
      "text/plain": [
       "<matplotlib.collections.QuadMesh at 0x14e06159b2b0>"
      ]
     },
     "execution_count": 56,
     "metadata": {},
     "output_type": "execute_result"
    },
    {
     "data": {
      "image/png": "[encoded data removed]",
      "text/plain": [
       "<Figure size 640x480 with 2 Axes>"
      ]
     },
     "metadata": {},
     "output_type": "display_data"
    }
   ],
   "source": [
    "standard_mse_loss = (prediction - target)**2\n",
    "\n",
    "standard_mse_loss['UP_HELI_MAX'].isel(batch=0).plot()"
   ]
  },
  {
   "cell_type": "code",
   "execution_count": null,
   "id": "04aba96f",
   "metadata": {},
   "outputs": [],
   "source": []
  }
 ],
 "metadata": {
  "kernelspec": {
   "display_name": "Python 3 (ipykernel)",
   "language": "python",
   "name": "python3"
  },
  "language_info": {
   "codemirror_mode": {
    "name": "ipython",
    "version": 3
   },
   "file_extension": ".py",
   "mimetype": "text/x-python",
   "name": "python",
   "nbconvert_exporter": "python",
   "pygments_lexer": "ipython3",
   "version": "3.10.13"
  }
 },
 "nbformat": 4,
 "nbformat_minor": 5
}
