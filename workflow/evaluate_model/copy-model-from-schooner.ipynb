{
 "cells": [
  {
   "cell_type": "code",
   "execution_count": 1,
   "id": "725bfff9",
   "metadata": {},
   "outputs": [
    {
     "name": "stdout",
     "output_type": "stream",
     "text": [
      "Executing command: scp mflora@schooner.oscer.ou.edu:/ourdisk/hpc/ai2es/wofscast/diffusion_model_ckpts/diffusion_all_vars_update_v1/config.json /work/mflora/wofs-cast-data/diffusion_models/diffusion_all_vars_update_v1/config.json\n",
      "Executing command: scp mflora@schooner.oscer.ou.edu:/ourdisk/hpc/ai2es/wofscast/diffusion_model_ckpts/diffusion_all_vars_update_v1/diffusion_pytorch_model.safetensors /work/mflora/wofs-cast-data/diffusion_models/diffusion_all_vars_update_v1/diffusion_pytorch_model.safetensors\n"
     ]
    }
   ],
   "source": [
    "import os\n",
    "import subprocess\n",
    "\n",
    "schooner_path = 'mflora@schooner.oscer.ou.edu:/ourdisk/hpc/ai2es/wofscast'\n",
    "\n",
    "model_path = 'diffusion_model_ckpts/diffusion_all_vars_update_v1'\n",
    "\n",
    "remote_path = os.path.join(schooner_path, model_path)\n",
    "\n",
    "# For the diffusion models\n",
    "filenames = ['config.json', 'diffusion_pytorch_model.safetensors']\n",
    "\n",
    "local_path = '/work/mflora/wofs-cast-data/diffusion_models'\n",
    "\n",
    "\n",
    "for f in filenames: \n",
    "    new_dir = os.path.join(local_path, os.path.basename(remote_path))\n",
    "    if not os.path.exists(new_dir):\n",
    "        os.makedirs(new_dir, exist_ok=True)\n",
    "    \n",
    "    cmd = f'scp {os.path.join(remote_path, f)} {os.path.join(new_dir, f)}'\n",
    "    print(f\"Executing command: {cmd}\")\n",
    "    subprocess.run(cmd, shell=True, check=True)\n"
   ]
  },
  {
   "cell_type": "code",
   "execution_count": null,
   "id": "bd53dbdd",
   "metadata": {},
   "outputs": [],
   "source": []
  }
 ],
 "metadata": {
  "kernelspec": {
   "display_name": "Python 3 (ipykernel)",
   "language": "python",
   "name": "python3"
  },
  "language_info": {
   "codemirror_mode": {
    "name": "ipython",
    "version": 3
   },
   "file_extension": ".py",
   "mimetype": "text/x-python",
   "name": "python",
   "nbconvert_exporter": "python",
   "pygments_lexer": "ipython3",
   "version": "3.10.13"
  }
 },
 "nbformat": 4,
 "nbformat_minor": 5
}
