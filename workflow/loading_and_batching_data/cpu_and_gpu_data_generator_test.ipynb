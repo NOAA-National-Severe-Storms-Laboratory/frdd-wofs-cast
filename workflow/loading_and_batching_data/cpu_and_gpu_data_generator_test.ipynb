{
 "cells": [
  {
   "cell_type": "code",
   "execution_count": 1,
   "id": "347c3b07",
   "metadata": {},
   "outputs": [],
   "source": [
    "import sys, os\n",
    "sys.path.insert(0, os.path.dirname(os.path.dirname(os.getcwd())))\n",
    "from wofscast.data_generator import (add_local_solar_time, \n",
    "                                     to_static_vars, \n",
    "                                     dataset_to_input,\n",
    "                                     #load_chunk,\n",
    "                                     ZarrDataGenerator\n",
    "                                    )\n",
    "from wofscast import data_utils\n",
    "from wofscast.wofscast_task_config import DBZ_TASK_CONFIG, WOFS_TASK_CONFIG\n",
    "from os.path import join\n",
    "\n",
    "import xarray as xr\n",
    "from dask.distributed import Client"
   ]
  },
  {
   "cell_type": "code",
   "execution_count": 2,
   "id": "a4d5ed9a",
   "metadata": {},
   "outputs": [
    {
     "name": "stdout",
     "output_type": "stream",
     "text": [
      "18053\n",
      "CPU times: user 35.5 ms, sys: 25.1 ms, total: 60.5 ms\n",
      "Wall time: 39.3 ms\n"
     ]
    }
   ],
   "source": [
    "%%time\n",
    "import os\n",
    "from os.path import join\n",
    "from concurrent.futures import ThreadPoolExecutor\n",
    "\n",
    "base_path = '/work/mflora/wofs-cast-data/datasets_zarr'#_zarr'\n",
    "years = ['2019', '2020']\n",
    "\n",
    "def get_files_for_year(year):\n",
    "    year_path = join(base_path, year)\n",
    "    with os.scandir(year_path) as it:\n",
    "        return [join(year_path, entry.name) for entry in it if entry.is_dir() and entry.name.endswith('.zarr')]\n",
    "        #return [join(year_path, entry.name) for entry in it if entry.is_file()]\n",
    "    \n",
    "with ThreadPoolExecutor() as executor:\n",
    "    paths = []\n",
    "    for files in executor.map(get_files_for_year, years):\n",
    "        paths.extend(files)\n",
    "\n",
    "print(len(paths))"
   ]
  },
  {
   "cell_type": "code",
   "execution_count": 3,
   "id": "1c79b934",
   "metadata": {},
   "outputs": [
    {
     "data": {
      "text/plain": [
       "'/work/mflora/wofs-cast-data/datasets_zarr/2019/wrfwof_2019-05-16_040000_to_2019-05-16_043000__10min__ens_mem_07.zarr'"
      ]
     },
     "execution_count": 3,
     "metadata": {},
     "output_type": "execute_result"
    }
   ],
   "source": [
    "paths[0]"
   ]
  },
  {
   "cell_type": "raw",
   "id": "ecd1c19c",
   "metadata": {},
   "source": [
    "%%time\n",
    "ds = xr.open_dataset(paths[0], engine='zarr', consolidated=True, chunks={}, decode_times=False)\n",
    "ds = add_local_solar_time(ds)\n",
    "ds = ds.compute()\n",
    "\n",
    "# 30-100 ms to load one zarr file. \n",
    "\n",
    "# For 25 zarr files. \n",
    "\n",
    "CPU times: user 1.21 s, sys: 561 ms, total: 1.77 s\n",
    "Wall time: 664 ms \n",
    "\n",
    "# 50 zarr files \n",
    "\n",
    "CPU times: user 2.67 s, sys: 1.18 s, total: 3.84 s\n",
    "Wall time: 1.75 s (1750 ms) -> 664*2 = 1328\n",
    "\n",
    "# 100 zarr files \n",
    "CPU times: user 5.22 s, sys: 2.22 s, total: 7.44 s\n",
    "Wall time: 3.14 s (3140 ms) -> 1750*2 = 3500\n",
    "\n",
    "\n",
    "# 200 zarr files (nthreads=4) \n",
    "CPU times: user 10.5 s, sys: 3.84 s, total: 14.3 s\n",
    "Wall time: 6.29 s (6290 ms) -> 3140*2 = 6280 ms\n"
   ]
  },
  {
   "cell_type": "code",
   "execution_count": 4,
   "id": "ae272452",
   "metadata": {},
   "outputs": [
    {
     "name": "stderr",
     "output_type": "stream",
     "text": [
      "/work/mflora/miniconda3/envs/wofs-cast/lib/python3.10/multiprocessing/popen_fork.py:66: RuntimeWarning: os.fork() was called. os.fork() is incompatible with multithreaded code, and JAX is multithreaded, so this will likely lead to a deadlock.\n",
      "  self.pid = os.fork()\n",
      "/work/mflora/miniconda3/envs/wofs-cast/lib/python3.10/multiprocessing/popen_fork.py:66: RuntimeWarning: os.fork() was called. os.fork() is incompatible with multithreaded code, and JAX is multithreaded, so this will likely lead to a deadlock.\n",
      "  self.pid = os.fork()\n"
     ]
    },
    {
     "name": "stdout",
     "output_type": "stream",
     "text": [
      "Batch : 0\n",
      "Batch : 1\n",
      "Batch : 2\n",
      "Batch : 3\n",
      "Batch : 4\n",
      "Batch : 5\n",
      "Batch : 6\n",
      "Batch : 7\n",
      "Batch : 8\n",
      "Batch : 9\n",
      "Batch : 10\n",
      "Batch : 11\n",
      "Batch : 12\n",
      "Batch : 13\n",
      "Batch : 14\n",
      "Batch : 15\n",
      "Batch : 16\n",
      "Batch : 17\n",
      "Batch : 18\n",
      "Batch : 19\n",
      "Batch : 20\n",
      "Batch : 21\n",
      "Batch : 22\n",
      "Batch : 23\n",
      "Batch : 24\n",
      "Batch : 25\n",
      "Batch : 26\n",
      "Batch : 27\n",
      "Batch : 28\n",
      "Batch : 29\n",
      "Batch : 30\n",
      "Batch : 31\n",
      "CPU times: user 4.6 s, sys: 1.45 s, total: 6.05 s\n",
      "Wall time: 6.63 s\n"
     ]
    }
   ],
   "source": [
    "%%time \n",
    "\n",
    "generator = ZarrDataGenerator(DBZ_TASK_CONFIG, cpu_batch_size=64, gpu_batch_size=32, n_workers=16)\n",
    "\n",
    "j=0\n",
    "for inputs, targets, forcings in generator(paths[:1024]):\n",
    "    print(f'Batch : {j}')\n",
    "    j+=1\n",
    "   \n",
    "# DBZ_TASK_CONFIG, threading = 25.6 seconds (2 workers)\n",
    "# DBZ_TASK_CONFIG, threading = 23.7 seconds (1 worker)\n",
    "# DBZ_TASK_CONFIG, no threading = 23.1 seconds"
   ]
  },
  {
   "cell_type": "code",
   "execution_count": null,
   "id": "c500e72b",
   "metadata": {},
   "outputs": [],
   "source": []
  }
 ],
 "metadata": {
  "kernelspec": {
   "display_name": "Python 3 (ipykernel)",
   "language": "python",
   "name": "python3"
  },
  "language_info": {
   "codemirror_mode": {
    "name": "ipython",
    "version": 3
   },
   "file_extension": ".py",
   "mimetype": "text/x-python",
   "name": "python",
   "nbconvert_exporter": "python",
   "pygments_lexer": "ipython3",
   "version": "3.10.13"
  }
 },
 "nbformat": 4,
 "nbformat_minor": 5
}
