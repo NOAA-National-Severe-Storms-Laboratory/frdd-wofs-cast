{
 "cells": [
  {
   "cell_type": "markdown",
   "id": "9c4118a4",
   "metadata": {},
   "source": [
    "## Visualize WoFCast Predictions"
   ]
  },
  {
   "cell_type": "code",
   "execution_count": 1,
   "id": "765cd72b",
   "metadata": {},
   "outputs": [
    {
     "name": "stdout",
     "output_type": "stream",
     "text": [
      "package_path='/home/monte.flora/python_packages/frdd-wofs-cast'\n"
     ]
    }
   ],
   "source": [
    "import os\n",
    "os.environ['XLA_PYTHON_CLIENT_PREALLOCATE'] = 'true'\n",
    "# Set this lower, to allow for PyTorch Model to fit into memory\n",
    "os.environ['XLA_PYTHON_CLIENT_MEM_FRACTION'] = '0.90' \n",
    "os.environ['PYTORCH_CUDA_ALLOC_CONF'] = 'expandable_segments:True'\n",
    "\n",
    "import sys, os \n",
    "package_path = os.path.dirname(os.path.dirname(os.getcwd())) \n",
    "print(f'{package_path=}')\n",
    "sys.path.insert(0, package_path)\n",
    "from glob import glob \n",
    "\n",
    "from wofscast.model import WoFSCastModel\n",
    "from wofscast.data_generator import load_chunk, dataset_to_input, add_local_solar_time\n",
    "from wofscast.common.wofs_data_loader import WoFSDataLoader\n",
    "from wofscast.common.wofs_analysis_loader import WoFSAnalysisLoader\n",
    "\n",
    "# For the diffusion model. \n",
    "from wofscast.diffusion import DiffusionModel \n",
    "\n",
    "# Utils for loading data, plotting, animations. \n",
    "from wofscast.common.mrms_data_loader import MRMSDataLoader \n",
    "from wofscast.common.helpers import (get_case_date, \n",
    "                                     to_datetimes, \n",
    "                                     get_qpe_datetimes, \n",
    "                                     border_difference_check,\n",
    "                                     compute_nmep, \n",
    "                                     convert_rain_amount_to_inches, \n",
    "                                     convert_T2_K_to_F\n",
    "                                    ) \n",
    "from wofscast.common.plot_utils import WoFSCastAnimator \n",
    "from dataclasses import dataclass\n",
    "\n",
    "# To display the animation in a Jupyter notebook\n",
    "from IPython.display import HTML\n",
    "\n",
    "# For plotting. \n",
    "import numpy as np\n",
    "import xarray as xr\n",
    "from datetime import datetime, timedelta"
   ]
  },
  {
   "cell_type": "markdown",
   "id": "7e3fca24",
   "metadata": {},
   "source": [
    "## Configuration for Plotting, Data loading, Model Loading"
   ]
  },
  {
   "cell_type": "code",
   "execution_count": 2,
   "id": "c9643d18",
   "metadata": {},
   "outputs": [],
   "source": [
    "# This configuration class contains all the user-settings required to run this notebook. \n",
    "year = '2021'\n",
    "base_path = '/work/mflora/wofs-cast-data/datasets_2hr_zarr/'\n",
    "fname = 'wrfwof_2021-05-15_020000_to_2021-05-15_041000__10min__ens_mem_09.zarr'\n",
    "data_path = os.path.join(base_path, year, fname)\n",
    "\n",
    "@dataclass\n",
    "class VisualizationConfig :\n",
    "    save_animations = False\n",
    "    \n",
    "    # Path to the WoFSCast model weights.\n",
    "    model_path = '/work/cpotvin/WOFSCAST/model/wofscast_test_v178.npz'\n",
    "    \n",
    "    # Whether to load all ensemble members. \n",
    "    load_ensemble = True \n",
    "    \n",
    "    timestep = 10 \n",
    "    steps_per_hour = 60 // timestep # 60 min / 5 min time steps\n",
    "    hours = 1\n",
    "    n_steps = int(steps_per_hour * hours)\n",
    "    \n",
    "    year = '2021'\n",
    "    mem = 9 \n",
    "    \n",
    "    # List of pandas datetime objects for plotting the time step. \n",
    "    dts = to_datetimes(data_path, n_times = n_steps+2)\n",
    "    \n",
    "    resize = False if 'full_domain' in data_path else True\n",
    "    \n",
    "    full_domain = True if 'full_domain' in data_path else False\n",
    "\n",
    "config = VisualizationConfig()\n",
    "config.domain_size = 300 if config.full_domain else 150"
   ]
  },
  {
   "cell_type": "markdown",
   "id": "3b23ebc4",
   "metadata": {},
   "source": [
    "## Generate WoFS-Cast Predictions "
   ]
  },
  {
   "cell_type": "code",
   "execution_count": 3,
   "id": "6719696d",
   "metadata": {},
   "outputs": [
    {
     "name": "stdout",
     "output_type": "stream",
     "text": [
      "CPU times: user 52.9 s, sys: 18.9 s, total: 1min 11s\n",
      "Wall time: 29.5 s\n"
     ]
    }
   ],
   "source": [
    "%%time \n",
    "model = WoFSCastModel()\n",
    "\n",
    "if config.full_domain:\n",
    "    model.load_model(config.model_path, **{'tiling' : (2,2)})\n",
    "else:    \n",
    "    model.load_model(config.model_path)\n",
    "\n",
    "data_loader = WoFSDataLoader(config, model.task_config, \n",
    "                             add_local_solar_time, \n",
    "                             config.load_ensemble)     \n",
    "    \n",
    "inputs, targets, forcings = data_loader.load_inputs_targets_forcings(data_path)\n",
    "    \n",
    "predictions = model.predict(inputs, targets, forcings, \n",
    "                            initial_datetime=config.dts[0], \n",
    "                            n_steps=config.n_steps,\n",
    "                            replace_bdry=False)\n",
    "\n",
    "# 18-mem 2hr ensemble prediction on 1 GPU: 39.6 s "
   ]
  },
  {
   "cell_type": "markdown",
   "id": "4121a68c",
   "metadata": {},
   "source": [
    "## Generate WoFS-Cast Prediction with Diffusion Applied In-step "
   ]
  },
  {
   "cell_type": "code",
   "execution_count": 4,
   "id": "461966b9",
   "metadata": {},
   "outputs": [
    {
     "name": "stderr",
     "output_type": "stream",
     "text": [
      "/work/mflora/miniconda3/envs/wofs-cast-gen/lib/python3.10/site-packages/diffusers/models/lora.py:387: FutureWarning: `LoRACompatibleLinear` is deprecated and will be removed in version 1.0.0. Use of `LoRACompatibleLinear` is deprecated. Please switch to PEFT backend by installing PEFT: `pip install peft`.\n",
      "  deprecate(\"LoRACompatibleLinear\", \"1.0.0\", deprecation_message)\n",
      "/work/mflora/miniconda3/envs/wofs-cast-gen/lib/python3.10/site-packages/diffusers/models/lora.py:300: FutureWarning: `LoRACompatibleConv` is deprecated and will be removed in version 1.0.0. Use of `LoRACompatibleConv` is deprecated. Please switch to PEFT backend by installing PEFT: `pip install peft`.\n",
      "  deprecate(\"LoRACompatibleConv\", \"1.0.0\", deprecation_message)\n"
     ]
    },
    {
     "name": "stdout",
     "output_type": "stream",
     "text": [
      "CPU times: user 40.2 s, sys: 24.2 s, total: 1min 4s\n",
      "Wall time: 40.4 s\n"
     ]
    }
   ],
   "source": [
    "%%time \n",
    "model = WoFSCastModel()\n",
    "\n",
    "if 'full_domain' in data_path:\n",
    "    model.load_model(config.model_path, **{'tiling' : (2,2)})\n",
    "else:    \n",
    "    model.load_model(config.model_path)\n",
    "\n",
    "data_loader = WoFSDataLoader(config, model.task_config, \n",
    "                             add_local_solar_time, \n",
    "                             config.load_ensemble)     \n",
    "    \n",
    "inputs, targets, forcings = data_loader.load_inputs_targets_forcings(data_path)\n",
    "\n",
    "diffusion_model = DiffusionModel()\n",
    "\n",
    "predictions_with_diff = model.predict(inputs, targets, forcings, \n",
    "                            initial_datetime=config.dts[0], \n",
    "                            n_steps=config.n_steps, \n",
    "                            replace_bdry=False, \n",
    "                            diffusion_model=diffusion_model, \n",
    "                            n_diffusion_steps=20\n",
    "                           )\n",
    "\n",
    "# 18-mem 2hr ensemble prediction on 1 GPU: 39.6 s "
   ]
  },
  {
   "cell_type": "markdown",
   "id": "cdec2e29",
   "metadata": {},
   "source": [
    "## Apply diffusion in-post to the WoFSCast predictions"
   ]
  },
  {
   "cell_type": "code",
   "execution_count": 5,
   "id": "4c6251ca",
   "metadata": {},
   "outputs": [
    {
     "name": "stderr",
     "output_type": "stream",
     "text": [
      "/work/mflora/miniconda3/envs/wofs-cast-gen/lib/python3.10/site-packages/diffusers/models/lora.py:387: FutureWarning: `LoRACompatibleLinear` is deprecated and will be removed in version 1.0.0. Use of `LoRACompatibleLinear` is deprecated. Please switch to PEFT backend by installing PEFT: `pip install peft`.\n",
      "  deprecate(\"LoRACompatibleLinear\", \"1.0.0\", deprecation_message)\n",
      "/work/mflora/miniconda3/envs/wofs-cast-gen/lib/python3.10/site-packages/diffusers/models/lora.py:300: FutureWarning: `LoRACompatibleConv` is deprecated and will be removed in version 1.0.0. Use of `LoRACompatibleConv` is deprecated. Please switch to PEFT backend by installing PEFT: `pip install peft`.\n",
      "  deprecate(\"LoRACompatibleConv\", \"1.0.0\", deprecation_message)\n"
     ]
    },
    {
     "name": "stdout",
     "output_type": "stream",
     "text": [
      "Number of parameters: 114.03 Million\n",
      "CPU times: user 27.2 s, sys: 8.1 s, total: 35.3 s\n",
      "Wall time: 25.5 s\n"
     ]
    },
    {
     "data": {
      "text/plain": [
       "114029289"
      ]
     },
     "execution_count": 5,
     "metadata": {},
     "output_type": "execute_result"
    }
   ],
   "source": [
    "%%time \n",
    "diffusion_model = DiffusionModel()\n",
    "predictions_in_post =  diffusion_model.sample_in_post(predictions, num_steps=20)\n",
    "diffusion_model.params_count"
   ]
  },
  {
   "cell_type": "markdown",
   "id": "36456186",
   "metadata": {},
   "source": [
    "## Load MRMS Data. "
   ]
  },
  {
   "cell_type": "code",
   "execution_count": 6,
   "id": "bcddfcbd",
   "metadata": {},
   "outputs": [],
   "source": [
    "loader = MRMSDataLoader(data_loader.case_date, config.dts, \n",
    "                        domain_size=config.domain_size, \n",
    "                        resize_domain=config.resize)\n",
    "mrms_dz = loader.load() "
   ]
  },
  {
   "cell_type": "markdown",
   "id": "c369906b",
   "metadata": {},
   "source": [
    "## Load the WoFS Analysis "
   ]
  },
  {
   "cell_type": "code",
   "execution_count": 7,
   "id": "37ff70b4",
   "metadata": {},
   "outputs": [],
   "source": [
    "# Load the WoFS analysis files for verification. \n",
    "anal_loader = WoFSAnalysisLoader(config.domain_size, config.resize)\n",
    "var = 'COMPOSITE_REFL_10CM'\n",
    "anal_ds = anal_loader.load(var, config.dts, config.year, data_loader.case_date, config.mem)"
   ]
  },
  {
   "cell_type": "markdown",
   "id": "c616cbda",
   "metadata": {},
   "source": [
    "## Compute NMEP for select variables (optional)"
   ]
  },
  {
   "cell_type": "code",
   "execution_count": 8,
   "id": "233ccc92",
   "metadata": {},
   "outputs": [],
   "source": [
    "if config.load_ensemble: \n",
    "\n",
    "    predictions = compute_nmep(predictions, 'COMPOSITE_REFL_10CM', 40.0)\n",
    "    targets = compute_nmep(targets, 'COMPOSITE_REFL_10CM', 40.0)\n",
    "    inputs = compute_nmep(inputs, 'COMPOSITE_REFL_10CM', 40.0)\n",
    "\n",
    "    predictions = compute_nmep(predictions, 'RAIN_AMOUNT', 0.5)\n",
    "    targets = compute_nmep(targets, 'RAIN_AMOUNT', 0.5)\n",
    "    inputs = compute_nmep(inputs, 'RAIN_AMOUNT', 0.5)"
   ]
  },
  {
   "cell_type": "code",
   "execution_count": 9,
   "id": "c81b48a3",
   "metadata": {},
   "outputs": [],
   "source": [
    "# Convert units \n",
    "unit_converter_funcs = [convert_T2_K_to_F, convert_rain_amount_to_inches]\n",
    "\n",
    "for func in unit_converter_funcs:\n",
    "    predictions = func(predictions)\n",
    "    targets = func(targets)\n",
    "    inputs = func(inputs)"
   ]
  },
  {
   "cell_type": "markdown",
   "id": "1a75e174",
   "metadata": {},
   "source": [
    "## Animate WoFS vs. WoFSCast "
   ]
  },
  {
   "cell_type": "code",
   "execution_count": null,
   "id": "210dfdb3",
   "metadata": {},
   "outputs": [],
   "source": [
    "animator = WoFSCastAnimator(\n",
    "    inputs, \n",
    "    predictions, \n",
    "    targets, \n",
    "    mrms_dz, \n",
    "    domain_size = config.domain_size,\n",
    "    dts = config.dts, \n",
    "    add_rmse = True, \n",
    "    for_randy=False,\n",
    ")\n",
    "\n",
    "var='COMPOSITE_REFL_10CM'\n",
    "\n",
    "anim = animator.create_animation(var, level='none', ens_idx = config.mem, \n",
    "                                 animation_type = 'wofs_vs_wofscast')\n",
    "\n",
    "if config.save_animations: \n",
    "    #Optionally, to save the animation\n",
    "    anim.save(f\"gifs/wofscast_10min_{var}_6hrs_full_domain.gif\", \n",
    "              writer=\"pillow\", fps=3)\n",
    "\n",
    "HTML(anim.to_jshtml())"
   ]
  },
  {
   "cell_type": "markdown",
   "id": "f739c3e6",
   "metadata": {},
   "source": [
    "## Animate WoFS, WoFSCast, WoFS Analysis, and MRMS Reflectivity"
   ]
  },
  {
   "cell_type": "code",
   "execution_count": null,
   "id": "f6d8854e",
   "metadata": {},
   "outputs": [],
   "source": [
    "\n",
    "var='T2'\n",
    "\n",
    "# Load the WoFS analysis files for verification. \n",
    "anal_loader = WoFSAnalysisLoader(config.domain_size, config.resize)\n",
    "anal_ds = anal_loader.load(var, config.dts, config.year, data_loader.case_date, config.mem)\n",
    "\n",
    "animator = WoFSCastAnimator(\n",
    "    inputs, \n",
    "    predictions, \n",
    "    targets, \n",
    "    mrms_dz, \n",
    "    anal_ds,\n",
    "    domain_size = config.domain_size,\n",
    "    dts = config.dts, \n",
    "    add_rmse = True, \n",
    "    for_randy=False,\n",
    ")\n",
    "\n",
    "\n",
    "anim = animator.create_animation(var, level='none', \n",
    "                                 animation_type = 'wofs_wofscast_analysis_mrms')\n",
    "\n",
    "if config.save_animations: \n",
    "    #Optionally, to save the animation\n",
    "    anim.save(f\"gifs/wofscast_10min_{var}_6hrs_full_domain.gif\", \n",
    "              writer=\"pillow\", fps=3)\n",
    "\n",
    "HTML(anim.to_jshtml())"
   ]
  },
  {
   "cell_type": "markdown",
   "id": "c1fd3fdc",
   "metadata": {},
   "source": [
    "## Animate Ensemble Probabilities "
   ]
  },
  {
   "cell_type": "code",
   "execution_count": null,
   "id": "c9396a1e",
   "metadata": {},
   "outputs": [],
   "source": [
    "animator = WoFSCastAnimator(\n",
    "    inputs, \n",
    "    predictions, \n",
    "    targets, \n",
    "    mrms_dz, \n",
    "    domain_size = config.domain_size,\n",
    "    dts = config.dts, \n",
    "    add_rmse = True, \n",
    "    for_randy=False,\n",
    ")\n",
    "\n",
    "var='COMPOSITE_REFL_10CM_nmep'\n",
    "anim = animator.create_animation(var, level='none', \n",
    "                                 animation_type = 'wofs_vs_wofscast')\n",
    "\n",
    "if config.save_animations: \n",
    "    #Optionally, to save the animation\n",
    "    anim.save(f\"gifs/wofscast_10min_{var}_6hrs_full_domain.gif\", \n",
    "              writer=\"pillow\", fps=3)\n",
    "\n",
    "HTML(anim.to_jshtml())"
   ]
  },
  {
   "cell_type": "code",
   "execution_count": null,
   "id": "47694815",
   "metadata": {},
   "outputs": [],
   "source": []
  }
 ],
 "metadata": {
  "kernelspec": {
   "display_name": "Python 3 (ipykernel)",
   "language": "python",
   "name": "python3"
  },
  "language_info": {
   "codemirror_mode": {
    "name": "ipython",
    "version": 3
   },
   "file_extension": ".py",
   "mimetype": "text/x-python",
   "name": "python",
   "nbconvert_exporter": "python",
   "pygments_lexer": "ipython3",
   "version": "3.10.13"
  }
 },
 "nbformat": 4,
 "nbformat_minor": 5
}
