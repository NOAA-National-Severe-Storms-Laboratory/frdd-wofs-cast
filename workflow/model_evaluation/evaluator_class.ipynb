{
 "cells": [
  {
   "cell_type": "code",
   "execution_count": 1,
   "id": "71136c33",
   "metadata": {},
   "outputs": [],
   "source": [
    "import os\n",
    "os.environ['XLA_PYTHON_CLIENT_PREALLOCATE'] = 'true'\n",
    "# Set this lower, to allow for PyTorch Model to fit into memory\n",
    "os.environ['XLA_PYTHON_CLIENT_MEM_FRACTION'] = '0.90' \n",
    "\n",
    "import sys\n",
    "package_path = os.path.dirname(os.path.dirname(os.getcwd())) \n",
    "sys.path.insert(0, package_path)\n",
    "from glob import glob \n",
    "\n",
    "from wofscast.common.wofs_data_loader import WoFSDataLoader\n",
    "from wofscast.evaluate.metrics import (MSE,\n",
    "                                       ObjectBasedContingencyStats,\n",
    "                                       PowerSpectra,\n",
    "                                       FractionsSkillScore,\n",
    "                                       PMMStormStructure,\n",
    "                                       )\n",
    "\n",
    "from wofscast.evaluate.predictor import Predictor\n",
    "from wofscast.evaluate.object_ider import ObjectIder\n",
    "from wofscast.evaluate.evaluator import Evaluator, EvaluatorConfig \n",
    "\n",
    "import numpy as np"
   ]
  },
  {
   "cell_type": "code",
   "execution_count": 2,
   "id": "fae0fbe2",
   "metadata": {},
   "outputs": [],
   "source": [
    "config = EvaluatorConfig(\n",
    "    data_path = '/work/mflora/wofs-cast-data/datasets_2hr_zarr/2021/*_ens_mem_09.zarr',\n",
    "    n_samples = 3 ,\n",
    "    seed = 42,\n",
    "    model_path = '/work/cpotvin/WOFSCAST/model/wofscast_test_v178.npz',\n",
    "    add_diffusion = False,\n",
    "    load_ensemble = False,\n",
    "    spectra_variables = ['COMPOSITE_REFL_10CM', 'T2', 'W'],\n",
    "    pmm_variables = ['COMPOSITE_REFL_10CM', 'T2', 'RAIN_AMOUNT', 'WMAX'],\n",
    "    fss_variables = ['COMPOSITE_REFL_10CM', 'RAIN_AMOUNT'],\n",
    "    fss_windows = [7, 15, 27],\n",
    "    fss_thresh_dict = {'COMPOSITE_REFL_10CM' : [40.0], \n",
    "                       'RAIN_AMOUNT' : [25.4/2], # 0.5 in\n",
    "                       },\n",
    "    matching_distance_km = 42 ,\n",
    "    grid_spacing_km=3.0,\n",
    "    out_base_path = '/work2/mflora/verification_datasets'\n",
    ")"
   ]
  },
  {
   "cell_type": "code",
   "execution_count": 3,
   "id": "bf552cde",
   "metadata": {},
   "outputs": [],
   "source": [
    "# Selecting a single ensemble member. \n",
    "paths = glob(config.data_path)\n",
    "paths.sort()\n",
    "n_samples=config.n_samples\n",
    "\n",
    "rs = np.random.RandomState(config.seed)\n",
    "random_paths = rs.choice(paths, size=n_samples, replace=False)\n",
    "\n",
    "model = Predictor(\n",
    "    model_path = config.model_path,\n",
    "    add_diffusion=config.add_diffusion \n",
    ")\n",
    "\n",
    "data_loader = WoFSDataLoader(model.task_config, \n",
    "                             model.preprocess_fn, \n",
    "                             config.load_ensemble, \n",
    "                             model.decode_times)  \n",
    "\n",
    "object_ider = ObjectIder()\n",
    "\n",
    "metrics = [MSE(),  \n",
    "           \n",
    "           ObjectBasedContingencyStats(config.matching_distance_km / config.grid_spacing_km), \n",
    "           \n",
    "           PowerSpectra(variables=config.spectra_variables),\n",
    "           \n",
    "           FractionsSkillScore(windows=config.fss_windows, \n",
    "                               thresh_dict=config.fss_thresh_dict,\n",
    "                             variables = config.fss_variables),\n",
    "           \n",
    "           PMMStormStructure(config.pmm_variables)\n",
    "           ]"
   ]
  },
  {
   "cell_type": "code",
   "execution_count": 4,
   "id": "af5dda84",
   "metadata": {
    "scrolled": true
   },
   "outputs": [
    {
     "name": "stderr",
     "output_type": "stream",
     "text": [
      "100%|████████████████████████████████████████████████████████████████████████████████████████████████████████████████████| 3/3 [00:19<00:00,  6.41s/it]"
     ]
    },
    {
     "name": "stdout",
     "output_type": "stream",
     "text": [
      "CPU times: user 2min 17s, sys: 6.12 s, total: 2min 23s\n",
      "Wall time: 19.3 s\n"
     ]
    },
    {
     "name": "stderr",
     "output_type": "stream",
     "text": [
      "\n"
     ]
    },
    {
     "data": {
      "text/plain": [
       "'Saved results dataset to /work2/mflora/verification_datasets/wofscast_test_v178_results_v1.nc!'"
      ]
     },
     "execution_count": 4,
     "metadata": {},
     "output_type": "execute_result"
    }
   ],
   "source": [
    "%%time\n",
    "evaluator = Evaluator(model, object_ider, data_loader, metrics)\n",
    "results_ds = evaluator.evaluate(random_paths)\n",
    "evaluator.save(results_ds, config)"
   ]
  },
  {
   "cell_type": "code",
   "execution_count": null,
   "id": "89bcabcb",
   "metadata": {},
   "outputs": [],
   "source": []
  }
 ],
 "metadata": {
  "kernelspec": {
   "display_name": "Python 3 (ipykernel)",
   "language": "python",
   "name": "python3"
  },
  "language_info": {
   "codemirror_mode": {
    "name": "ipython",
    "version": 3
   },
   "file_extension": ".py",
   "mimetype": "text/x-python",
   "name": "python",
   "nbconvert_exporter": "python",
   "pygments_lexer": "ipython3",
   "version": "3.10.14"
  }
 },
 "nbformat": 4,
 "nbformat_minor": 5
}
