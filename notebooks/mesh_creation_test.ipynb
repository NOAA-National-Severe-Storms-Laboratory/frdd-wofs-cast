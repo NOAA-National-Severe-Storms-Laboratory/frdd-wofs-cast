{
 "cells": [
  {
   "cell_type": "code",
   "execution_count": 1,
   "id": "479a3005",
   "metadata": {},
   "outputs": [],
   "source": [
    "import sys, os \n",
    "sys.path.insert(0, os.path.dirname(os.getcwd()))\n",
    "\n",
    "from wofscast import icosahedral_mesh"
   ]
  },
  {
   "cell_type": "code",
   "execution_count": 2,
   "id": "43a5ae58",
   "metadata": {},
   "outputs": [],
   "source": [
    "# Specification of the multimesh.\n",
    "meshes = (\n",
    "        icosahedral_mesh.get_hierarchy_of_triangular_meshes_for_sphere(\n",
    "            splits=3))"
   ]
  },
  {
   "cell_type": "code",
   "execution_count": 3,
   "id": "1bf1616a",
   "metadata": {},
   "outputs": [
    {
     "data": {
      "text/plain": [
       "TriangularMesh(vertices=array([[ 0.49112344,  0.8506508 ,  0.18759246],\n",
       "       [-0.303531  ,  0.5257311 ,  0.7946544 ],\n",
       "       [ 0.607062  ,  0.        ,  0.7946544 ],\n",
       "       [ 0.49112344, -0.8506508 ,  0.18759246],\n",
       "       [ 0.303531  ,  0.5257311 , -0.7946544 ],\n",
       "       [-0.98224694,  0.        ,  0.18759246],\n",
       "       [-0.49112344,  0.8506508 , -0.18759246],\n",
       "       [-0.303531  , -0.5257311 ,  0.7946544 ],\n",
       "       [ 0.98224694,  0.        , -0.18759246],\n",
       "       [-0.49112344, -0.8506508 , -0.18759246],\n",
       "       [ 0.303531  , -0.5257311 , -0.7946544 ],\n",
       "       [-0.607062  ,  0.        , -0.7946544 ]], dtype=float32), faces=array([[ 0,  1,  2],\n",
       "       [ 0,  6,  1],\n",
       "       [ 8,  0,  2],\n",
       "       [ 8,  4,  0],\n",
       "       [ 3,  8,  2],\n",
       "       [ 3,  2,  7],\n",
       "       [ 7,  2,  1],\n",
       "       [ 0,  4,  6],\n",
       "       [ 4, 11,  6],\n",
       "       [ 6, 11,  5],\n",
       "       [ 1,  5,  7],\n",
       "       [ 4, 10, 11],\n",
       "       [ 4,  8, 10],\n",
       "       [10,  8,  3],\n",
       "       [10,  3,  9],\n",
       "       [11, 10,  9],\n",
       "       [11,  9,  5],\n",
       "       [ 5,  9,  7],\n",
       "       [ 9,  3,  7],\n",
       "       [ 1,  6,  5]], dtype=int32))"
      ]
     },
     "execution_count": 3,
     "metadata": {},
     "output_type": "execute_result"
    }
   ],
   "source": [
    "meshes[0]"
   ]
  },
  {
   "cell_type": "code",
   "execution_count": null,
   "id": "0d10c3e5",
   "metadata": {},
   "outputs": [],
   "source": []
  }
 ],
 "metadata": {
  "kernelspec": {
   "display_name": "Python 3 (ipykernel)",
   "language": "python",
   "name": "python3"
  },
  "language_info": {
   "codemirror_mode": {
    "name": "ipython",
    "version": 3
   },
   "file_extension": ".py",
   "mimetype": "text/x-python",
   "name": "python",
   "nbconvert_exporter": "python",
   "pygments_lexer": "ipython3",
   "version": "3.10.13"
  }
 },
 "nbformat": 4,
 "nbformat_minor": 5
}
